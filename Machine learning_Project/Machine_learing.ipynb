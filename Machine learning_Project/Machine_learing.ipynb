{
 "cells": [
  {
   "cell_type": "markdown",
   "id": "8e634a96",
   "metadata": {},
   "source": [
    "# Introduction of the Dataset\n",
    "\n",
    "My project goal is about identifing of the impact of measured unemployment rate  on measured crime  rate.I use a country-level panel data set from  different countries that contains consistently-measured crime and measured unemployment rate , I will analyze these two dataset in my project.Unemployment has a positive impact on monetary crimes, and instrumenting unemployment .Moreover,\n",
    "Rate of unemployment increases the allocated to crime. For individuals who do not work in the legal job market  they mostly commit crimes.Unemployment rate of countries is really increasing drastically lately there are a lot of reasons for this one of the reasons is the country's economic hardship, so I took the data of different countries in my own dataset and use them to better analyze the crime rate of unemployment rate of the country.\n",
    "Since developed countries generally have a developed economy, the unemployment rate is lower than in undeveloped countries. Therefore , developed countries have low crime rates .So that  we can  analyze that varies according to the level of development in the countries.\n",
    "\n",
    "\n",
    "\n"
   ]
  },
  {
   "cell_type": "markdown",
   "id": "5c16c1d8",
   "metadata": {},
   "source": [
    "# Source material of the dataset \n",
    "First, I got the unemployment rate data set of different countries and the second dataset was the crime rate. Finally, I combined these two data sets as \"MyDataSet.csv\".\n",
    "\n",
    "Unemployment rates:The source I took as a reference to the unemployment rates of differentcountries.https://en.wikipedia.org/wiki/List_of_countries_by_unemployment_rate.\n",
    "This dataset gives information of the diferent countires of the unemployed rates so I just copy  the this every Unemployment rates and try to merge this data with the crime rates data .for the Crime rates data I found this data anotother website so I provide the crime rates of the different countries data sourse is given below.\n",
    "\n",
    "Crime Rates:The source I took as a reference to the unemployment rates of \n",
    "crime rates.\n",
    "https://worldpopulationreview.com/country-rankings/crime-rate-by-country\n",
    "This dataset gives information of the diferent countries crime rates.I tried to get the values from a reliable sites so that the values are realistic. for the Crime rates I found this data from other website so that I just merged the data to my \"MyDataSet.csv\".\n",
    "\n",
    "\n",
    "my references:I took ad a referances of the my informayion from these links from class and labs \n",
    ":https://byes.pl/wp-content/uploads/systemy/SADiSM_cl_2_III15.pdf\n",
    "\n",
    "https://byes.pl/wp-content/uploads/systemy/SADiSM_cl_3_III29.pdf,\n",
    "\n",
    "https://byes.pl/wp-content/uploads/systemy/SADiSM_lab_3_IV13_15.ipynb\n"
   ]
  },
  {
   "cell_type": "code",
   "execution_count": 775,
   "id": "9fb26e81",
   "metadata": {},
   "outputs": [],
   "source": [
    "#importing of the libraries\n",
    "import pandas as pd\n",
    "import urllib.request\n"
   ]
  },
  {
   "cell_type": "code",
   "execution_count": 776,
   "id": "08fbefd9",
   "metadata": {
    "scrolled": false
   },
   "outputs": [
    {
     "data": {
      "text/html": [
       "<div>\n",
       "<style scoped>\n",
       "    .dataframe tbody tr th:only-of-type {\n",
       "        vertical-align: middle;\n",
       "    }\n",
       "\n",
       "    .dataframe tbody tr th {\n",
       "        vertical-align: top;\n",
       "    }\n",
       "\n",
       "    .dataframe thead th {\n",
       "        text-align: right;\n",
       "    }\n",
       "</style>\n",
       "<table border=\"1\" class=\"dataframe\">\n",
       "  <thead>\n",
       "    <tr style=\"text-align: right;\">\n",
       "      <th></th>\n",
       "      <th>CrimeRate</th>\n",
       "      <th>UnemploymentRate</th>\n",
       "    </tr>\n",
       "    <tr>\n",
       "      <th>Country</th>\n",
       "      <th></th>\n",
       "      <th></th>\n",
       "    </tr>\n",
       "  </thead>\n",
       "  <tbody>\n",
       "    <tr>\n",
       "      <th>Bolivia</th>\n",
       "      <td>56.13</td>\n",
       "      <td>3.5</td>\n",
       "    </tr>\n",
       "    <tr>\n",
       "      <th>Bahrain</th>\n",
       "      <td>26.68</td>\n",
       "      <td>0.8</td>\n",
       "    </tr>\n",
       "    <tr>\n",
       "      <th>Mauritius</th>\n",
       "      <td>46.41</td>\n",
       "      <td>6.7</td>\n",
       "    </tr>\n",
       "    <tr>\n",
       "      <th>France</th>\n",
       "      <td>47.37</td>\n",
       "      <td>7.3</td>\n",
       "    </tr>\n",
       "    <tr>\n",
       "      <th>Rwanda</th>\n",
       "      <td>22.04</td>\n",
       "      <td>16.0</td>\n",
       "    </tr>\n",
       "    <tr>\n",
       "      <th>China</th>\n",
       "      <td>31.18</td>\n",
       "      <td>5.3</td>\n",
       "    </tr>\n",
       "    <tr>\n",
       "      <th>Maldives</th>\n",
       "      <td>54.61</td>\n",
       "      <td>6.4</td>\n",
       "    </tr>\n",
       "    <tr>\n",
       "      <th>Chile</th>\n",
       "      <td>49.60</td>\n",
       "      <td>10.4</td>\n",
       "    </tr>\n",
       "    <tr>\n",
       "      <th>Colombia</th>\n",
       "      <td>54.94</td>\n",
       "      <td>16.6</td>\n",
       "    </tr>\n",
       "    <tr>\n",
       "      <th>Austria</th>\n",
       "      <td>24.43</td>\n",
       "      <td>5.7</td>\n",
       "    </tr>\n",
       "    <tr>\n",
       "      <th>South Africa</th>\n",
       "      <td>77.29</td>\n",
       "      <td>32.6</td>\n",
       "    </tr>\n",
       "    <tr>\n",
       "      <th>Turkey</th>\n",
       "      <td>39.50</td>\n",
       "      <td>12.7</td>\n",
       "    </tr>\n",
       "    <tr>\n",
       "      <th>Armenia</th>\n",
       "      <td>22.69</td>\n",
       "      <td>17.5</td>\n",
       "    </tr>\n",
       "    <tr>\n",
       "      <th>United Kingdom</th>\n",
       "      <td>44.54</td>\n",
       "      <td>7.5</td>\n",
       "    </tr>\n",
       "  </tbody>\n",
       "</table>\n",
       "</div>"
      ],
      "text/plain": [
       "                CrimeRate  UnemploymentRate\n",
       "Country                                    \n",
       "Bolivia             56.13               3.5\n",
       "Bahrain             26.68               0.8\n",
       "Mauritius           46.41               6.7\n",
       "France              47.37               7.3\n",
       "Rwanda              22.04              16.0\n",
       "China               31.18               5.3\n",
       "Maldives            54.61               6.4\n",
       "Chile               49.60              10.4\n",
       "Colombia            54.94              16.6\n",
       "Austria             24.43               5.7\n",
       "South Africa        77.29              32.6\n",
       "Turkey              39.50              12.7\n",
       "Armenia             22.69              17.5\n",
       "United Kingdom      44.54               7.5"
      ]
     },
     "execution_count": 776,
     "metadata": {},
     "output_type": "execute_result"
    }
   ],
   "source": [
    "reading_data = pd.read_csv('MyDataSet.csv',delimiter=\",\",skiprows=1,index_col=0,\n",
    "                     names=['Country','CrimeRate','UnemploymentRate'])\n",
    "reading_data .sample(14) #  showing  the number of the  random lines  dataset"
   ]
  },
  {
   "cell_type": "markdown",
   "id": "3f998b33",
   "metadata": {},
   "source": [
    "I just want to calculate standard deviation , It is a measure of how far each observed value is from the mean .  I used the std()"
   ]
  },
  {
   "cell_type": "code",
   "execution_count": 777,
   "id": "3189ec56",
   "metadata": {},
   "outputs": [
    {
     "data": {
      "text/plain": [
       "CrimeRate           13.174941\n",
       "UnemploymentRate     6.180041\n",
       "dtype: float64"
      ]
     },
     "execution_count": 777,
     "metadata": {},
     "output_type": "execute_result"
    }
   ],
   "source": [
    "reading_data.std()"
   ]
  },
  {
   "cell_type": "markdown",
   "id": "72b8c128",
   "metadata": {},
   "source": [
    "I just try to demonstrate of the countries Crime rates and Unemployment Rate respectively Extracting from my dataset and it shows the values of rates."
   ]
  },
  {
   "cell_type": "code",
   "execution_count": 778,
   "id": "0fcd4b9e",
   "metadata": {},
   "outputs": [],
   "source": [
    "x = reading_data['CrimeRate'].values\n",
    "y = reading_data['UnemploymentRate'].values"
   ]
  },
  {
   "cell_type": "code",
   "execution_count": 779,
   "id": "f83d1656",
   "metadata": {
    "scrolled": false
   },
   "outputs": [
    {
     "data": {
      "text/plain": [
       "(array([84.36, 77.29, 68.31, 66.12, 63.27, 57.8 , 57.47, 56.14, 56.13,\n",
       "        56.04, 55.59, 54.94, 54.81, 54.61, 53.47, 53.31, 53.02, 52.66,\n",
       "        52.18, 50.41, 49.6 , 49.6 , 49.23, 48.97, 48.91, 48.84, 48.64,\n",
       "        48.  , 47.7 , 47.43, 47.37, 46.93, 46.65, 46.52, 46.41, 46.2 ,\n",
       "        46.06, 46.03, 45.68, 45.54, 45.29, 45.21, 44.54, 44.42, 44.24,\n",
       "        44.18, 44.07, 43.57, 43.22, 42.22, 42.19, 41.68, 41.67, 41.56,\n",
       "        41.3 , 40.83, 40.64, 40.6 , 40.23, 40.01, 39.86, 39.5 , 39.37,\n",
       "        38.61, 38.55, 37.73, 37.43, 35.61, 35.23, 35.14, 34.62, 34.57,\n",
       "        33.88, 33.13, 32.75, 32.33, 32.12, 31.57, 31.53, 31.18, 30.44,\n",
       "        29.83, 29.81, 29.02, 28.75, 28.62, 27.82, 27.33, 27.15, 26.68,\n",
       "        26.68, 26.09, 25.53, 25.4 , 25.02, 24.67, 24.43, 23.7 , 23.56,\n",
       "        22.69, 22.04, 21.67, 21.58, 21.32, 20.95, 20.91, 20.62, 20.5 ,\n",
       "        15.45, 15.28, 11.9 ]),\n",
       " array([ 9.4, 32.6, 13.9, 20.6, 33.3,  2. ,  5.9,  1.9,  3.5, 11.4, 22. ,\n",
       "        16.6,  5. ,  6.4, 18.7,  3.8, 11.1,  4.9,  0.7, 11.5,  5.7, 10.4,\n",
       "         2.1, 12.7, 11.2,  9.9,  4.5, 12.8,  6.2,  8.9,  7.3,  1.7,  5.7,\n",
       "         2.7,  6.7,  3.8,  7.1,  4.2,  5.8,  7.4,  5.3, 25.3,  7.5,  7.8,\n",
       "        10.7,  4.4,  6.3, 18.4, 11.4, 10. ,  5.3, 16.2,  7.1, 19.3, 15.8,\n",
       "        14.6,  7.5,  6.3,  5.4,  1.9, 11.9, 12.7,  3.9, 17.1,  4.7,  7.3,\n",
       "         8.5,  1.5,  4.9,  4.4,  5. ,  2.3,  9.6,  3.1,  6.5, 15.5,  6. ,\n",
       "         9.4,  3.6,  5.3,  4.7,  7.2,  7. ,  1.6,  9. ,  8.9,  5.7,  4.2,\n",
       "         3.6,  0.8, 12.6,  5.7,  8.4,  3.4,  4.6,  7.5,  5.7,  7.2,  6.8,\n",
       "        17.5, 16. ,  2.9,  5.1,  1.9,  4.9,  6.4,  2.5, 20.4,  2.4,  3.8,\n",
       "         0.1]))"
      ]
     },
     "execution_count": 779,
     "metadata": {},
     "output_type": "execute_result"
    }
   ],
   "source": [
    "x,y  #  showing  the values of rates respectively."
   ]
  },
  {
   "cell_type": "markdown",
   "id": "d0a3af42",
   "metadata": {},
   "source": [
    "We can easily find the total number of rows and columns in the data set and I sorted them to see the number values more easily."
   ]
  },
  {
   "cell_type": "code",
   "execution_count": 1,
   "id": "253c9d3c",
   "metadata": {},
   "outputs": [
    {
     "ename": "NameError",
     "evalue": "name 'reading_data' is not defined",
     "output_type": "error",
     "traceback": [
      "\u001b[1;31m---------------------------------------------------------------------------\u001b[0m",
      "\u001b[1;31mNameError\u001b[0m                                 Traceback (most recent call last)",
      "\u001b[1;32m<ipython-input-1-55db70874891>\u001b[0m in \u001b[0;36m<module>\u001b[1;34m\u001b[0m\n\u001b[1;32m----> 1\u001b[1;33m \u001b[0mreading_data\u001b[0m\u001b[1;33m.\u001b[0m\u001b[0msort_values\u001b[0m\u001b[1;33m(\u001b[0m\u001b[1;34m\"CrimeRate\"\u001b[0m\u001b[1;33m)\u001b[0m\u001b[1;33m\u001b[0m\u001b[1;33m\u001b[0m\u001b[0m\n\u001b[0m\u001b[0;32m      2\u001b[0m \u001b[0mreading_data\u001b[0m\u001b[1;33m.\u001b[0m\u001b[0msort_values\u001b[0m\u001b[1;33m(\u001b[0m\u001b[1;34m\"UnemploymentRate\"\u001b[0m\u001b[1;33m)\u001b[0m\u001b[1;33m\u001b[0m\u001b[1;33m\u001b[0m\u001b[0m\n",
      "\u001b[1;31mNameError\u001b[0m: name 'reading_data' is not defined"
     ]
    }
   ],
   "source": [
    "reading_data.sort_values(\"CrimeRate\")\n",
    "reading_data.sort_values(\"UnemploymentRate\")\n"
   ]
  },
  {
   "cell_type": "markdown",
   "id": "c376c735",
   "metadata": {},
   "source": [
    "# Introduction to plotting:\n",
    "\n",
    "\n",
    "# * Linear model \n",
    "\n",
    "In my project, I will model the scatter Plots first and then I will  merge  this scatter model with Linear Regression model and then I will try to model other models in my project.Linear model, which is a machine learning approach based on supervised learning that is related to Linear Regression. It carries out a regression task. Based on independent variables, regression models a goal predictive value. It's usually used to figure out relationship between variables and forecasting.\n",
    "\n",
    "Content:\n",
    "A linear regression line has an equation of the form Y = a + bX, where X is the explanatory variable and Y is the dependent variable.\n",
    "The dataset contains the x and y values:\n",
    "x values are just duplicate values.\n",
    "The y values depend on the equation Y = a + bX.\n",
    "\n",
    "As I introduced my dataset  at the begin of the project I Just pick two data which I will be using the x values (unemployment rate) and y values (crime rate ).\n",
    "\n",
    "Understaning of the Error:\n",
    "When I fit a line to my dataset, for most x values there is a difference between the y value that  model estimates — and the real y value that I  have in  the  my dataset so that this difference is called error In machine learning .\n",
    "\n",
    "\n",
    "# * Support Vector Machines (for Regression - SVR,forClassification - SVC)\n",
    "First of all understanding of the model is really important before I just want to give some information about the what is the SVM means ?\n",
    "it is a  machine learing algorithm havig a plot of two label classes ,it is separating the maximum margin examples belonging to two classes. I will try to show in my dataset.\n",
    "goal of svm is dividing the datasets into classes so that finding of the  maximum marginal.Disadvantages of the SVM ,it is not suitable for large.SVM does not operate well when the data set contains a large number \n",
    "\n",
    "\n",
    "\n",
    "\n",
    "# * General Linear Models (GLM)\n",
    "\n",
    "\n",
    "\n",
    "\n",
    "# * Provide models predictions for the entire x axis\n",
    "\n"
   ]
  },
  {
   "cell_type": "code",
   "execution_count": 2,
   "id": "e53f73f1",
   "metadata": {},
   "outputs": [],
   "source": [
    "#importing of the libraries\n",
    "import matplotlib.pyplot as plt\n",
    "import numpy as np"
   ]
  },
  {
   "cell_type": "markdown",
   "id": "69916883",
   "metadata": {},
   "source": [
    "# Scatter Plot"
   ]
  },
  {
   "cell_type": "markdown",
   "id": "9d6b5703",
   "metadata": {},
   "source": [
    "At this step,Now that the raw data has been refined into a workable dataset we can put them onto a scatter plot, to visually understand our dataset."
   ]
  },
  {
   "cell_type": "markdown",
   "id": "5758a652",
   "metadata": {},
   "source": [
    "Scatter plot is  used to visualize the relationship between unemployment  and crime rate variables in a data set .\n",
    "I just took a data point and I take two variables. Moreover; \n",
    "the x-axis demonstrates of the unemployment rate,\n",
    "the y-axis demonstrates of the crime rate.\n",
    "Belowing the concepts ,Every datapoints displays the each crime  rates of the contries and unemployment rate.\n"
   ]
  },
  {
   "cell_type": "code",
   "execution_count": 3,
   "id": "75000284",
   "metadata": {},
   "outputs": [
    {
     "ename": "NameError",
     "evalue": "name 'reading_data' is not defined",
     "output_type": "error",
     "traceback": [
      "\u001b[1;31m---------------------------------------------------------------------------\u001b[0m",
      "\u001b[1;31mNameError\u001b[0m                                 Traceback (most recent call last)",
      "\u001b[1;32m<ipython-input-3-e8393f09abbe>\u001b[0m in \u001b[0;36m<module>\u001b[1;34m\u001b[0m\n\u001b[0;32m      1\u001b[0m \u001b[0mplt\u001b[0m\u001b[1;33m.\u001b[0m\u001b[0mfigure\u001b[0m\u001b[1;33m(\u001b[0m\u001b[0mfigsize\u001b[0m\u001b[1;33m=\u001b[0m\u001b[1;33m(\u001b[0m\u001b[1;36m11\u001b[0m\u001b[1;33m,\u001b[0m\u001b[1;36m7\u001b[0m\u001b[1;33m)\u001b[0m\u001b[1;33m)\u001b[0m \u001b[1;31m# modify the size of the plot\u001b[0m\u001b[1;33m\u001b[0m\u001b[1;33m\u001b[0m\u001b[0m\n\u001b[1;32m----> 2\u001b[1;33m \u001b[0mplt\u001b[0m\u001b[1;33m.\u001b[0m\u001b[0mscatter\u001b[0m\u001b[1;33m(\u001b[0m\u001b[0mreading_data\u001b[0m\u001b[1;33m.\u001b[0m\u001b[0mCrimeRate\u001b[0m\u001b[1;33m,\u001b[0m\u001b[0mreading_data\u001b[0m\u001b[1;33m.\u001b[0m\u001b[0mUnemploymentRate\u001b[0m\u001b[1;33m)\u001b[0m \u001b[1;31m# getting my dataset\u001b[0m\u001b[1;33m\u001b[0m\u001b[1;33m\u001b[0m\u001b[0m\n\u001b[0m\u001b[0;32m      3\u001b[0m \u001b[0mplt\u001b[0m\u001b[1;33m.\u001b[0m\u001b[0mxlabel\u001b[0m\u001b[1;33m(\u001b[0m\u001b[0mreading_data\u001b[0m\u001b[1;33m.\u001b[0m\u001b[0mcolumns\u001b[0m\u001b[1;33m[\u001b[0m\u001b[1;36m1\u001b[0m\u001b[1;33m]\u001b[0m\u001b[1;33m)\u001b[0m\u001b[1;33m\u001b[0m\u001b[1;33m\u001b[0m\u001b[0m\n\u001b[0;32m      4\u001b[0m \u001b[0mplt\u001b[0m\u001b[1;33m.\u001b[0m\u001b[0mylabel\u001b[0m\u001b[1;33m(\u001b[0m\u001b[0mreading_data\u001b[0m\u001b[1;33m.\u001b[0m\u001b[0mcolumns\u001b[0m\u001b[1;33m[\u001b[0m\u001b[1;36m0\u001b[0m\u001b[1;33m]\u001b[0m\u001b[1;33m)\u001b[0m\u001b[1;33m\u001b[0m\u001b[1;33m\u001b[0m\u001b[0m\n\u001b[0;32m      5\u001b[0m \u001b[0mplt\u001b[0m\u001b[1;33m.\u001b[0m\u001b[0mlegend\u001b[0m\u001b[1;33m(\u001b[0m\u001b[0mloc\u001b[0m\u001b[1;33m=\u001b[0m\u001b[1;34m'upper center'\u001b[0m\u001b[1;33m,\u001b[0m \u001b[0mbbox_to_anchor\u001b[0m\u001b[1;33m=\u001b[0m\u001b[1;33m(\u001b[0m\u001b[1;36m0.9\u001b[0m\u001b[1;33m,\u001b[0m \u001b[1;33m-\u001b[0m\u001b[1;36m0.03\u001b[0m\u001b[1;33m)\u001b[0m\u001b[1;33m,\u001b[0m \u001b[0mfancybox\u001b[0m\u001b[1;33m=\u001b[0m\u001b[1;32mTrue\u001b[0m\u001b[1;33m,\u001b[0m \u001b[0mncol\u001b[0m\u001b[1;33m=\u001b[0m\u001b[1;36m5\u001b[0m\u001b[1;33m,\u001b[0m \u001b[0mlabels\u001b[0m\u001b[1;33m=\u001b[0m\u001b[1;33m[\u001b[0m\u001b[1;34m'DataSet'\u001b[0m\u001b[1;33m]\u001b[0m\u001b[1;33m)\u001b[0m\u001b[1;33m\u001b[0m\u001b[1;33m\u001b[0m\u001b[0m\n",
      "\u001b[1;31mNameError\u001b[0m: name 'reading_data' is not defined"
     ]
    },
    {
     "data": {
      "text/plain": [
       "<Figure size 792x504 with 0 Axes>"
      ]
     },
     "metadata": {},
     "output_type": "display_data"
    }
   ],
   "source": [
    "plt.figure(figsize=(11,7)) # modify the size of the plot\n",
    "plt.scatter(reading_data.CrimeRate,reading_data.UnemploymentRate) # getting my dataset\n",
    "plt.xlabel(reading_data.columns[1])\n",
    "plt.ylabel(reading_data.columns[0])\n",
    "plt.legend(loc='upper center', bbox_to_anchor=(0.9, -0.03), fancybox=True, ncol=5, labels=['DataSet'])\n",
    "plt.show()  #showing the plot\n",
    " \n"
   ]
  },
  {
   "cell_type": "markdown",
   "id": "11d01125",
   "metadata": {},
   "source": [
    "I have paired  numerical data so that it is efficent to use scatter graph so  I will also  analize  the correlation.when I analized the  scatter graph that degrees of correlation is not perfect,I  thnik that degrees of correlation is low.Moreover Types of the correlation is partial. it is not  negative correlation.\n"
   ]
  },
  {
   "cell_type": "markdown",
   "id": "4477e444",
   "metadata": {},
   "source": [
    "# Linear Regression (line fitting)"
   ]
  },
  {
   "cell_type": "markdown",
   "id": "0c251368",
   "metadata": {},
   "source": [
    "Before I  go further, I want to mention about the linear regression itself.Linear models, which use a simple formula(Y = a + bX) to find a best-fit line through a set of data points.I will try to fit my data in linear regression.\n",
    "so one last time, this was our linear function formula:\n",
    "y = a*x + b\n",
    "The a and b variables:\n",
    "\n",
    "this  a and b variables in this equation  represents of  the position of your regression line. The a variable is called slope.it represents   slope of your line and the b variable is knows as intercept. the a variable (the slope) is also of called the regression coefficient.\n"
   ]
  },
  {
   "cell_type": "code",
   "execution_count": 4,
   "id": "135c39dd",
   "metadata": {},
   "outputs": [],
   "source": [
    "from sklearn.linear_model import LinearRegression  \n",
    "from sklearn import linear_model\n"
   ]
  },
  {
   "cell_type": "code",
   "execution_count": 5,
   "id": "d47bfbe3",
   "metadata": {},
   "outputs": [
    {
     "ename": "NameError",
     "evalue": "name 'reading_data' is not defined",
     "output_type": "error",
     "traceback": [
      "\u001b[1;31m---------------------------------------------------------------------------\u001b[0m",
      "\u001b[1;31mNameError\u001b[0m                                 Traceback (most recent call last)",
      "\u001b[1;32m<ipython-input-5-4c40e03e2837>\u001b[0m in \u001b[0;36m<module>\u001b[1;34m\u001b[0m\n\u001b[0;32m      1\u001b[0m \u001b[0mlinear_model\u001b[0m \u001b[1;33m=\u001b[0m \u001b[0mlinear_model\u001b[0m\u001b[1;33m.\u001b[0m\u001b[0mLinearRegression\u001b[0m\u001b[1;33m(\u001b[0m\u001b[1;33m)\u001b[0m\u001b[1;33m\u001b[0m\u001b[1;33m\u001b[0m\u001b[0m\n\u001b[0;32m      2\u001b[0m \u001b[1;33m\u001b[0m\u001b[0m\n\u001b[1;32m----> 3\u001b[1;33m \u001b[0mlinear_model\u001b[0m\u001b[1;33m.\u001b[0m\u001b[0mfit\u001b[0m\u001b[1;33m(\u001b[0m\u001b[0mreading_data\u001b[0m\u001b[1;33m[\u001b[0m\u001b[1;33m[\u001b[0m\u001b[1;34m'UnemploymentRate'\u001b[0m\u001b[1;33m]\u001b[0m\u001b[1;33m]\u001b[0m\u001b[1;33m,\u001b[0m\u001b[0mreading_data\u001b[0m\u001b[1;33m.\u001b[0m\u001b[0mCrimeRate\u001b[0m\u001b[1;33m)\u001b[0m\u001b[1;31m# try to get avaliable poinst to fit my data\u001b[0m\u001b[1;33m\u001b[0m\u001b[1;33m\u001b[0m\u001b[0m\n\u001b[0m\u001b[0;32m      4\u001b[0m \u001b[1;33m\u001b[0m\u001b[0m\n",
      "\u001b[1;31mNameError\u001b[0m: name 'reading_data' is not defined"
     ]
    }
   ],
   "source": [
    " \n",
    "linear_model = linear_model.LinearRegression()\n",
    "\n",
    "linear_model.fit(reading_data[['UnemploymentRate']],reading_data.CrimeRate)# try to get avaliable poinst to fit my data\n",
    "\n"
   ]
  },
  {
   "cell_type": "code",
   "execution_count": null,
   "id": "d356b9fe",
   "metadata": {},
   "outputs": [],
   "source": [
    "x =reading_data['UnemploymentRate'].values.reshape(-1,1)\n",
    "y =reading_data.CrimeRate\n",
    "\n",
    "\n",
    "# Plot regression against actual data\n",
    "plt.xlabel('UnemploymentRate',fontsize=20)\n",
    "plt.ylabel('CrimeRate',fontsize=20)\n",
    "plt.scatter(reading_data.UnemploymentRate,reading_data.CrimeRate,color='blue')\n",
    "plt.scatter(reading_data.UnemploymentRate,linear_model.predict(x),color='black')\n",
    "\n",
    "x_min = reading_data['UnemploymentRate'].min()\n",
    "x_max = reading_data['UnemploymentRate'].max()\n",
    "x_plot = np.linspace(x_min, x_max, 300)\n",
    "\n",
    "\n",
    "plt.plot(x_plot, y_pred_plot, color='red', label='linear model')\n",
    "print(f'Model params: {model_lin.coef_}, {model_lin.intercept_}')\n",
    "\n",
    "\n",
    "plt.legend()\n",
    "plt.show()\n",
    "\n",
    "\n"
   ]
  },
  {
   "cell_type": "markdown",
   "id": "5859f92a",
   "metadata": {},
   "source": [
    "linear regression model using sklearn linear regression class , I just  predict method is used on linear regression object to make actual forecast. "
   ]
  },
  {
   "cell_type": "markdown",
   "id": "26414331",
   "metadata": {},
   "source": [
    "# Support Vector Machines (for Regression - SVR,forClassification - SVC)"
   ]
  },
  {
   "cell_type": "markdown",
   "id": "529721a6",
   "metadata": {},
   "source": [
    "python using the sklearn.svm library. Feature scaling has been done to the dataset to get a proper prediction."
   ]
  },
  {
   "cell_type": "code",
   "execution_count": 786,
   "id": "ace97003",
   "metadata": {},
   "outputs": [],
   "source": [
    "from sklearn.svm import SVR\n",
    "\n",
    "from sklearn.preprocessing import StandardScaler\n",
    "from sklearn.metrics import mean_squared_error\n",
    "import seaborn as sns\n"
   ]
  },
  {
   "cell_type": "code",
   "execution_count": 787,
   "id": "0c14fbe4",
   "metadata": {},
   "outputs": [
    {
     "name": "stdout",
     "output_type": "stream",
     "text": [
      "Model params: [0.74556062], 33.72968578404054\n",
      "Error calculation 160.2136402174884\n"
     ]
    },
    {
     "data": {
      "image/png": "[encoded data removed]",
      "text/plain": [
       "<Figure size 720x288 with 1 Axes>"
      ]
     },
     "metadata": {
      "needs_background": "light"
     },
     "output_type": "display_data"
    }
   ],
   "source": [
    "#Then, I  fit my  modelusing fit() and perform prediction on the test set using predict().\n",
    "svr = SVR().fit(x.reshape(-1,1),y) #We'll fit the model on x and y data.\n",
    "y_pred_plot_svr = model_svr.predict(x_plot.reshape(-1,1))  #predicting x data with svr model\n",
    "\n",
    "#plt.scatter(reading_data.UnemploymentRate,reading_data.CrimeRate,color='blue'\n",
    "reading_data.plot(kind='scatter',x='UnemploymentRate',y='CrimeRate',color='blue',figsize=(10, 4))\n",
    "\n",
    "plt.title(\"SVR Model\")\n",
    "plt.xlabel('UnemploymentRate')\n",
    "plt.ylabel('CrimeRate')\n",
    "\n",
    "plt.plot(x_plot, y_pred_plot, color='red', label='linear model')\n",
    "plt.plot(x_plot, y_pred_plot_svr, color='green', label='model SVR')\n",
    "\n",
    "print(f'Model params: {model_lin.coef_}, {model_lin.intercept_}')\n",
    "print(f'Error calculation {mean_squared_error(y, svr.predict(x.reshape(-1,1)))}')\n",
    "\n",
    "plt.legend()\n",
    "plt.show()\n"
   ]
  },
  {
   "cell_type": "markdown",
   "id": "c13373c1",
   "metadata": {},
   "source": [
    "# Polynomial Regression"
   ]
  },
  {
   "cell_type": "markdown",
   "id": "6fbf97b9",
   "metadata": {},
   "source": [
    "From here, I will begin to demonstarte the polynomial regression of our  dataset. I chose a range  5, so that degree of the polynomial is 5 for my case but we can  change the polyynomial degree based on our needs but if we change the degree of the polynomial to 1 so 1st degree polynomial is just a straight line also known as a linear equation and  slope of the line and is constant., I took the coefficient values provided by the polynomial regression and used them."
   ]
  },
  {
   "cell_type": "code",
   "execution_count": 788,
   "id": "67a0c548",
   "metadata": {},
   "outputs": [],
   "source": [
    "from sklearn.preprocessing import PolynomialFeatures\n",
    "from sklearn.linear_model import LinearRegression\n",
    "\n",
    "\n",
    "\n",
    "GLM_degree = 5   # shows the degree of our Polynomial\n",
    "\n",
    "Poly_reg = PolynomialFeatures(degree=GLM_degree, \n",
    "                          include_bias=True, \n",
    "                          interaction_only=False)\n",
    "x_transform = Poly_reg.fit_transform(x)\n",
    "\n",
    "\n",
    "GLM_model = LinearRegression()\n",
    "GLM_model.fit(x_transform, y)\n",
    "\n",
    "x_transform = Poly_reg.fit_transform(x_plot.reshape(-1,1))\n",
    "\n",
    "y_plot = GLM_model.predict(x_transform)\n",
    "\n",
    "\n",
    "\n",
    "\n"
   ]
  },
  {
   "cell_type": "code",
   "execution_count": 789,
   "id": "3a83128b",
   "metadata": {},
   "outputs": [
    {
     "name": "stdout",
     "output_type": "stream",
     "text": [
      "[[1.00000000e+00 1.00000000e-01 1.00000000e-02 1.00000000e-03\n",
      "  1.00000000e-04 1.00000000e-05]\n",
      " [1.00000000e+00 2.11036789e-01 4.45365264e-02 9.39884555e-03\n",
      "  1.98350219e-03 4.18591933e-04]\n",
      " [1.00000000e+00 3.22073579e-01 1.03731390e-01 3.34091400e-02\n",
      "  1.07602013e-02 3.46557653e-03]\n",
      " [1.00000000e+00 4.33110368e-01 1.87584591e-01 8.12448311e-02\n",
      "  3.51879787e-02 1.52402784e-02]\n",
      " [1.00000000e+00 5.44147157e-01 2.96096129e-01 1.61119867e-01\n",
      "  8.76729174e-02 4.77069688e-02]]\n"
     ]
    }
   ],
   "source": [
    "print(x_poly[:5])"
   ]
  },
  {
   "cell_type": "code",
   "execution_count": 790,
   "id": "8a8b6b46",
   "metadata": {},
   "outputs": [
    {
     "name": "stdout",
     "output_type": "stream",
     "text": [
      "GLM model params: [ 0.00000000e+00 -1.26339377e+00  5.70669223e-01 -5.54216822e-02\n",
      "  2.06296127e-03 -2.55594565e-05], 35.352946271939636\n"
     ]
    },
    {
     "data": {
      "image/png": "[encoded data removed]",
      "text/plain": [
       "<Figure size 1152x648 with 1 Axes>"
      ]
     },
     "metadata": {
      "needs_background": "light"
     },
     "output_type": "display_data"
    }
   ],
   "source": [
    "plt.figure(figsize=(16, 9))\n",
    "plt.scatter(x,y)\n",
    "plt.xlabel(\"UnemploymentRate\")\n",
    "plt.ylabel(\"CrimeRate\")\n",
    "plt.title(\"Regression Model\")\n",
    "\n",
    "\n",
    "plt.plot(x_plot,y_plot,color=\"green\",label=\"Polinom Linear regression Model\")\n",
    "print(f'GLM model params: {GLM_model.coef_}, {GLM_model.intercept_}')\n",
    "plt.legend()\n",
    "plt.show()"
   ]
  },
  {
   "cell_type": "code",
   "execution_count": 791,
   "id": "3c55aa4c",
   "metadata": {},
   "outputs": [
    {
     "name": "stdout",
     "output_type": "stream",
     "text": [
      "35.352946271939636\n",
      "[ 0.00000000e+00 -1.26339377e+00  5.70669223e-01 -5.54216822e-02\n",
      "  2.06296127e-03 -2.55594565e-05]\n"
     ]
    }
   ],
   "source": [
    "print(GLM_model.intercept_)\n",
    "print(GLM_model.coef_)"
   ]
  },
  {
   "cell_type": "markdown",
   "id": "1a4ef629",
   "metadata": {},
   "source": [
    "# Conclusion"
   ]
  },
  {
   "cell_type": "markdown",
   "id": "2b71cf93",
   "metadata": {},
   "source": [
    "\n",
    "In conclusion,I try to use   class pdf anf  lab  pdfs on my project.  I try to  give as much as I information about the my data. in my opinon understanding  the  concept of model is really crucial. for my idea;It is more important to be able to give information about the code than just writing coded. I discover from this course that discovering  patterns in  my  data and then make predictions based on often   these to answer business questions, detect and analyse trends .I try to present the models that I learn from my labs and class.also for commenct on the  polynomial regression plot , I analized that the the model line can be changed accoriding to our degree of the polynomial equaltion.there is a  curvilinear relationship between the unemploymentrate and crimerate variables.Also, Polynomial Regression does not require linear relationship between independent and dependent variables in the data set,it is the main difference between linear and Polynomial Regression.this is my overall statesments of conclusin."
   ]
  },
  {
   "cell_type": "code",
   "execution_count": null,
   "id": "417f3194",
   "metadata": {},
   "outputs": [],
   "source": []
  }
 ],
 "metadata": {
  "kernelspec": {
   "display_name": "Python 3",
   "language": "python",
   "name": "python3"
  },
  "language_info": {
   "codemirror_mode": {
    "name": "ipython",
    "version": 3
   },
   "file_extension": ".py",
   "mimetype": "text/x-python",
   "name": "python",
   "nbconvert_exporter": "python",
   "pygments_lexer": "ipython3",
   "version": "3.9.5"
  }
 },
 "nbformat": 4,
 "nbformat_minor": 5
}
